{
 "cells": [
  {
   "cell_type": "markdown",
   "id": "afbc615a",
   "metadata": {},
   "source": [
    "## Gráficas adicionales  a partir del ouput de los módelos "
   ]
  },
  {
   "cell_type": "code",
   "execution_count": 8,
   "id": "41abff5d",
   "metadata": {},
   "outputs": [
    {
     "data": {
      "text/plain": [
       "<cppyy.gbl.TTree object at 0x55b2930de640>"
      ]
     },
     "execution_count": 8,
     "metadata": {},
     "output_type": "execute_result"
    }
   ],
   "source": [
    "import random, numpy, ROOT\n",
    "import ROOT\n",
    "import os\n",
    " \n",
    "TMVA = ROOT.TMVA\n",
    "TFile = ROOT.TFile\n",
    " \n",
    "TMVA.Tools.Instance()\n",
    "#f_out.Close()\n",
    "#signalTree\n",
    "#outputFile.Get(\"\")\n",
    "out = TFile.Open(\"Higgs_ClassificationOutput.root\", \"READ\")\n",
    "out.Get(\"dataset/TrainTree\")"
   ]
  },
  {
   "cell_type": "markdown",
   "id": "867976ec",
   "metadata": {},
   "source": [
    "## Curva de accuracy de la DNN"
   ]
  },
  {
   "cell_type": "code",
   "execution_count": 2,
   "id": "29a64f05",
   "metadata": {},
   "outputs": [
    {
     "name": "stderr",
     "output_type": "stream",
     "text": [
      "Info in <TCanvas::Print>: png file accuracy_completo.png has been created\n"
     ]
    }
   ],
   "source": [
    "import ROOT\n",
    "\n",
    "# Crea una instancia del objeto TCanvas para dibujar el histograma\n",
    "canvas = ROOT.TCanvas(\"canvas\", \"Histogram Canvas\", 800, 600)\n",
    "\n",
    "# Carga el archivo ROOT que contiene los objetos TH1D o crea uno nuevo\n",
    "histogram1 = out.Get(\"dataset/Method_PyKeras/PyKeras/TrainingHistory_PyKeras_'accuracy'\") # Cambia \"nombre_histograma1\" por el nombre de tu primer histograma TH1D\n",
    "histogram2 = out.Get(\"dataset/Method_PyKeras/PyKeras/TrainingHistory_PyKeras_'val_accuracy'\") # Cambia \"nombre_histograma2\" por el nombre de tu segundo histograma TH1D\n",
    "\n",
    "# Establece las opciones de estilo y colores para cada histograma\n",
    "histogram1.SetLineColor(ROOT.kRed)\n",
    "histogram2.SetLineColor(ROOT.kBlue)\n",
    "\n",
    "# Dibuja el primer histograma en el lienzo\n",
    "histogram1.Draw()\n",
    "\n",
    "# Dibuja el segundo histograma en el mismo lienzo, utilizando la opción \"SAME\"\n",
    "histogram2.Draw(\"SAME\")\n",
    "# Crea una leyenda\n",
    "legend = ROOT.TLegend(0.6, 0.5, 0.8, 0.3)  # Ajusta las coordenadas de la leyenda según tus preferencias\n",
    "legend.AddEntry(histogram1, \"Accuracy de entrenamiento\", \"l\")\n",
    "legend.AddEntry(histogram2, \"Val_accuracy\", \"l\")\n",
    "legend.Draw()\n",
    "\n",
    "\n",
    "# Actualiza el lienzo para que se muestren ambos histogramas\n",
    "canvas.Update()\n",
    "\n",
    "# Opcionalmente, puedes guardar la imagen del lienzo en un archivo\n",
    "canvas.SaveAs(\"accuracy_completo.png\")  # Cambia \"nombre_archivo.png\" por el nombre que desees para la imagen\n"
   ]
  },
  {
   "cell_type": "markdown",
   "id": "fa372dfd",
   "metadata": {},
   "source": [
    "## Curva de pérdida "
   ]
  },
  {
   "cell_type": "code",
   "execution_count": 3,
   "id": "d23a3713",
   "metadata": {},
   "outputs": [
    {
     "name": "stderr",
     "output_type": "stream",
     "text": [
      "Warning in <TCanvas::Constructor>: Deleting canvas with same name: canvas\n",
      "Info in <TCanvas::Print>: png file loss_completo.png has been created\n"
     ]
    }
   ],
   "source": [
    "import ROOT\n",
    "\n",
    "# Crea una instancia del objeto TCanvas para dibujar el histograma\n",
    "canvas = ROOT.TCanvas(\"canvas\", \"Histogram Canvas\", 800, 600)\n",
    "\n",
    "# Carga el archivo ROOT que contiene los objetos TH1D o crea uno nuevo\n",
    "histogram1 = out.Get(\"dataset/Method_PyKeras/PyKeras/TrainingHistory_PyKeras_'loss'\") # Cambia \"nombre_histograma1\" por el nombre de tu primer histograma TH1D\n",
    "histogram2 = out.Get(\"dataset/Method_PyKeras/PyKeras/TrainingHistory_PyKeras_'val_loss'\") # Cambia \"nombre_histograma2\" por el nombre de tu segundo histograma TH1D\n",
    "\n",
    "# Establece las opciones de estilo y colores para cada histograma\n",
    "histogram1.SetLineColor(ROOT.kRed)\n",
    "histogram2.SetLineColor(ROOT.kBlue)\n",
    "\n",
    "# Dibuja el primer histograma en el lienzo\n",
    "histogram1.Draw()\n",
    "\n",
    "# Dibuja el segundo histograma en el mismo lienzo, utilizando la opción \"SAME\"\n",
    "histogram2.Draw(\"SAME\")\n",
    "# Crea una leyenda\n",
    "legend = ROOT.TLegend(0.6, 0.5, 0.8, 0.3)  # Ajusta las coordenadas de la leyenda según tus preferencias\n",
    "legend.AddEntry(histogram1, \"Training loss \", \"l\")\n",
    "legend.AddEntry(histogram2, \"Validation loss\", \"l\")\n",
    "legend.Draw()\n",
    "\n",
    "\n",
    "# Actualiza el lienzo para que se muestren ambos histogramas\n",
    "canvas.Update()\n",
    "\n",
    "# Opcionalmente, puedes guardar la imagen del lienzo en un archivo\n",
    "canvas.SaveAs(\"loss_completo.png\")  # Cambia \"nombre_archivo.png\" por el nombre que desees para la imagen"
   ]
  },
  {
   "cell_type": "markdown",
   "id": "6f64073c",
   "metadata": {},
   "source": [
    "## Distribución de los datos de signal y background "
   ]
  },
  {
   "cell_type": "code",
   "execution_count": 12,
   "id": "b5aa3fae",
   "metadata": {},
   "outputs": [],
   "source": [
    "#-----------------------------------------------------------------------\n",
    "# En este caso se deben cambiar el nombre del módelo que se necesite\n",
    "# Es decir BDT o PyKeras según corresponda\n",
    "#_----------------------------------------------------------------------"
   ]
  },
  {
   "cell_type": "code",
   "execution_count": 9,
   "id": "6783d0a5",
   "metadata": {},
   "outputs": [],
   "source": [
    "# Histogrammed results are already stored in a file for us! \n",
    "# We will open this file (LearningOutput.root) shortly.\n",
    "# These are histogram (TH) one-dimensional double (1D) objects \n",
    "Histo_training_S = ROOT.TH1D('Histo_training_S','S (Train)',80,-1.0,1.0) \n",
    "Histo_training_B = ROOT.TH1D('Histo_training_B','B (Train)',80,-1.0,1.0) \n",
    "Histo_testing_S = ROOT.TH1D('Histo_testing_S','S (Test)',80,-1.0,1.0) \n",
    "Histo_testing_B = ROOT.TH1D('Histo_testing_B','B (Test)',80,-1.0,1.0) "
   ]
  },
  {
   "cell_type": "code",
   "execution_count": 10,
   "id": "5c99fa20",
   "metadata": {},
   "outputs": [
    {
     "name": "stderr",
     "output_type": "stream",
     "text": [
      "Warning in <TCanvas::Constructor>: Deleting canvas with same name: c1\n",
      "Info in <TCanvas::Print>: png file ROOT_Likelihood.png has been created\n"
     ]
    }
   ],
   "source": [
    "# Fetch the trees of events from the root file \n",
    "TrainTree = out.Get(\"dataset/TrainTree\") \n",
    "TestTree = out.Get(\"dataset/TestTree\") \n",
    "\n",
    "\n",
    "\n",
    "# Cutting on these objects in the trees will allow to separate true S/B SCut_Tree '\n",
    "BCut_Tree = 'classID>0.5'\n",
    "SCut_Tree = 'classID<0.5'\n",
    " \n",
    "# Now lets project the tree information into those histograms\n",
    "TrainTree.Project(\"Histo_training_S\",\"Likelihood\",SCut_Tree)\n",
    "TrainTree.Project(\"Histo_training_B\",\"Likelihood\",BCut_Tree)\n",
    "TestTree.Project(\"Histo_testing_S\",\"Likelihood\",SCut_Tree)\n",
    "TestTree.Project(\"Histo_testing_B\",\"Likelihood\",BCut_Tree)\n",
    " \n",
    "# Create the color styles\n",
    "Histo_training_S.SetLineColor(2)\n",
    "Histo_training_S.SetMarkerColor(2)\n",
    "Histo_training_S.SetFillColor(2)\n",
    "Histo_testing_S.SetLineColor(2)\n",
    "Histo_testing_S.SetMarkerColor(2)\n",
    "Histo_testing_S.SetFillColor(2)\n",
    " \n",
    "Histo_training_B.SetLineColor(4)\n",
    "Histo_training_B.SetMarkerColor(4)\n",
    "Histo_training_B.SetFillColor(4)\n",
    "Histo_testing_B.SetLineColor(4)\n",
    "Histo_testing_B.SetMarkerColor(4)\n",
    "Histo_testing_B.SetFillColor(4)\n",
    " \n",
    "# Histogram fill styles\n",
    "Histo_training_S.SetFillStyle(3001)\n",
    "Histo_training_B.SetFillStyle(3001)\n",
    "Histo_testing_S.SetFillStyle(0)\n",
    "Histo_testing_B.SetFillStyle(0)\n",
    " \n",
    "# Histogram marker styles\n",
    "Histo_testing_S.SetMarkerStyle(20)\n",
    "Histo_testing_B.SetMarkerStyle(20)\n",
    " \n",
    "# Set titles\n",
    "Histo_training_S.GetXaxis().SetTitle(\"Classifier, Likelihood\")\n",
    "Histo_training_S.GetYaxis().SetTitle(\"Counts/Bin\")\n",
    " \n",
    "    \n",
    "# Set maximum y-axis value\n",
    "Histo_training_S.SetMaximum(1000)\n",
    "#Histo_training_S.GetXaxis().SetRangeUser(0, 2)\n",
    "Histo_training_S.SetAxisRange(-1, 1, \"X\")\n",
    "\n",
    "\n",
    "# Draw the objects\n",
    "\n",
    "c1 = ROOT.TCanvas(\"c1\",\"\",800,600)\n",
    "ROOT.gStyle.SetOptStat(0)\n",
    "ROOT.gStyle.SetOptTitle(0)\n",
    "Histo_training_S.Draw(\"HIST\")\n",
    "Histo_training_B.Draw(\"HISTSAME\")\n",
    "Histo_testing_S.Draw(\"EPSAME\")\n",
    "Histo_testing_B.Draw(\"EPSAME\")\n",
    " \n",
    "# Reset the y-max of the plot\n",
    "\n",
    "#ymax = max([h.GetMaximum() for h in [Histo_training_S,Histo_training_B,Histo_testing_S,Histo_testing_B] ])\n",
    "#ymax *=1.2\n",
    "#Histo_training_S.SetMaximum(ymax)\n",
    " \n",
    "# Create Legend\n",
    "c1.cd(1).BuildLegend( 0.42,  0.72,  0.57,  0.88).SetFillColor(0)\n",
    " \n",
    "# Add custom title\n",
    "l1=ROOT.TLatex()\n",
    "l1.SetNDC();\n",
    "l1.DrawLatex(0.26,0.93,\"Classification with TMVA (ROOT)\")\n",
    " \n",
    "# Finally, draw the figure\n",
    "c1.Print('ROOT_Likelihood.png')"
   ]
  },
  {
   "cell_type": "code",
   "execution_count": null,
   "id": "93d1c082",
   "metadata": {},
   "outputs": [],
   "source": []
  }
 ],
 "metadata": {
  "kernelspec": {
   "display_name": "Python 3 (ipykernel)",
   "language": "python",
   "name": "python3"
  },
  "language_info": {
   "codemirror_mode": {
    "name": "ipython",
    "version": 3
   },
   "file_extension": ".py",
   "mimetype": "text/x-python",
   "name": "python",
   "nbconvert_exporter": "python",
   "pygments_lexer": "ipython3",
   "version": "3.10.6"
  }
 },
 "nbformat": 4,
 "nbformat_minor": 5
}
